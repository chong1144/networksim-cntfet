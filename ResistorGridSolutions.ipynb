{
 "cells": [
  {
   "cell_type": "code",
   "execution_count": 136,
   "metadata": {
    "collapsed": true
   },
   "outputs": [],
   "source": [
    "import numpy as np\n",
    "import matplotlib.pyplot as plt\n",
    "import seaborn as sns"
   ]
  },
  {
   "cell_type": "code",
   "execution_count": null,
   "metadata": {},
   "outputs": [],
   "source": [
    "\n"
   ]
  },
  {
   "cell_type": "code",
   "execution_count": 61,
   "metadata": {
    "collapsed": true
   },
   "outputs": [],
   "source": [
    "m=4\n",
    "n=4"
   ]
  },
  {
   "cell_type": "code",
   "execution_count": 62,
   "metadata": {
    "collapsed": true
   },
   "outputs": [],
   "source": [
    "V=np.zeros((m*n,1))\n"
   ]
  },
  {
   "cell_type": "code",
   "execution_count": 74,
   "metadata": {
    "collapsed": true
   },
   "outputs": [],
   "source": [
    "I=np.zeros((m*n,1))\n",
    "I[0]=5\n",
    "I[-1]=-5\n",
    "\n",
    "def setR():\n",
    "    return np.random.randint(low=1,high=3)"
   ]
  },
  {
   "cell_type": "code",
   "execution_count": 113,
   "metadata": {},
   "outputs": [
    {
     "data": {
      "text/plain": [
       "array([[ 0.,  0.,  0.,  0.,  0.,  0.,  0.,  0.,  0.],\n",
       "       [ 0.,  0.,  0.,  0.,  1.,  0.,  0.,  0.,  0.],\n",
       "       [ 0.,  0.,  0.,  0.,  0.,  0.,  0.,  0.,  0.],\n",
       "       [ 0.,  0.,  0.,  0.,  1.,  0.,  0.,  0.,  0.],\n",
       "       [ 0.,  1.,  0.,  1.,  0.,  1.,  0.,  1.,  0.],\n",
       "       [ 0.,  0.,  1.,  0.,  0.,  0.,  0.,  0.,  0.],\n",
       "       [ 0.,  0.,  0.,  0.,  0.,  0.,  0.,  0.,  0.],\n",
       "       [ 0.,  0.,  0.,  0.,  1.,  0.,  0.,  0.,  0.],\n",
       "       [ 0.,  0.,  0.,  0.,  0.,  0.,  0.,  0.,  0.]])"
      ]
     },
     "execution_count": 113,
     "metadata": {},
     "output_type": "execute_result"
    }
   ],
   "source": [
    "\n",
    "def make_Gpattern(m,n):\n",
    "    pattern=np.zeros((m*n,m*n))\n",
    "    for i in range(m*n):\n",
    "        for j in range(m*n):\n",
    "            if i==0 or i==m*n-1 or i==n-1 or i==m*(n-1): #conditions for the unconnected corners\n",
    "                pattern[i,j]=0\n",
    "            elif i in [x for x in range(1,n-1)]: # condition for top inputs\n",
    "                if j==n+i:\n",
    "                    pattern[i,j]=1\n",
    "                elif j==i:\n",
    "                    pattern[i,j]=0\n",
    "                else:\n",
    "                    pattern[i,j]=0\n",
    "            elif i in [x for x in range(m*n-4,m*n)]: #condition for bottom inputs\n",
    "                if j==i-n:\n",
    "                    pattern[i,j]=1\n",
    "                elif j==i:\n",
    "                    pattern[i,j]=0\n",
    "                else:\n",
    "                    pattern[i,j]=0\n",
    "            elif i%n==0: #conditions for left inputs\n",
    "                if j==i+1:\n",
    "                    pattern[i,j]=1\n",
    "                elif j==i:\n",
    "                    pattern[i,j]=0\n",
    "                else:\n",
    "                    pattern[i,j]=0\n",
    "            elif (i+1)%n==0: #conditions for right inputs\n",
    "                if j==i-1:\n",
    "                    pattern[i,j]=1\n",
    "                elif j==i:\n",
    "                    pattern[i,j]=0\n",
    "                else:\n",
    "                    pattern[i,j]=0       \n",
    "            else: # for any fully connected indices\n",
    "                if j == i+1:\n",
    "                    pattern[i,j]=1\n",
    "                if j == i-1:\n",
    "                    pattern[i,j]=1\n",
    "                if j == i-n:\n",
    "                    pattern[i,j]=1\n",
    "                if j == i+n:\n",
    "                    pattern[i,j]=1\n",
    "                elif j==i:\n",
    "                    pattern[i,j]=0\n",
    "        G[i,i]==-sum(G[i,:])\n",
    "    return pattern\n",
    "            \n",
    "make_Gpattern(3,3)"
   ]
  },
  {
   "cell_type": "code",
   "execution_count": 178,
   "metadata": {
    "collapsed": true
   },
   "outputs": [],
   "source": [
    "\n",
    "def make_grid_connections(m,n):\n",
    "    pattern=np.zeros((m*n,m*n))\n",
    "    for i in range(m*n):\n",
    "        for j in range(m*n):\n",
    "            if i==0 or i==m*n-1 or i==n-1 or i==m*(n-1)-1: #conditions for the unconnected corners\n",
    "                pattern[i,j]=0\n",
    "            elif i in [x for x in range(1,n-1)]: # condition for top inputs\n",
    "                if j==n+i:\n",
    "                    pattern[i,j]=1\n",
    "            elif i in [x for x in range((m-1)*n,m*n)]: #condition for bottom inputs\n",
    "                if j==i-n:\n",
    "                    pattern[i,j]=1\n",
    "            elif i%n==0: #conditions for left inputs\n",
    "                if j==i+1:\n",
    "                    pattern[i,j]=1\n",
    "            elif (i+1)%n==0: #conditions for right inputs\n",
    "                if j==i-1:\n",
    "                    pattern[i,j]=1     \n",
    "            else: # for any fully connected indices\n",
    "                if j == i+1:\n",
    "                    pattern[i,j]=1\n",
    "                if j == i-1:\n",
    "                    pattern[i,j]=1\n",
    "                if j == i-n:\n",
    "                    pattern[i,j]=1\n",
    "                if j == i+n:\n",
    "                    pattern[i,j]=1\n",
    "    return pattern\n",
    "            \n",
    "grid=make_grid_connections(3,3)\n",
    "def add_G(grid):\n",
    "    for i in range(grid.shape[0]):\n",
    "        for j in range(grid.shape[1]):\n",
    "            pass\n"
   ]
  },
  {
   "cell_type": "code",
   "execution_count": 179,
   "metadata": {},
   "outputs": [
    {
     "name": "stderr",
     "output_type": "stream",
     "text": [
      "/usr/lib/python3/dist-packages/matplotlib/figure.py:1744: UserWarning: This figure includes Axes that are not compatible with tight_layout, so its results might be incorrect.\n",
      "  warnings.warn(\"This figure includes Axes that are not \"\n"
     ]
    },
    {
     "data": {
      "image/png": "[encoded data removed]",
      "text/plain": [
       "<matplotlib.figure.Figure at 0x7fba9f287358>"
      ]
     },
     "metadata": {},
     "output_type": "display_data"
    }
   ],
   "source": [
    "sns.heatmap(make_Gpattern(5,5),linewidths=1,linecolor='grey')\n",
    "plt.show()"
   ]
  },
  {
   "cell_type": "markdown",
   "metadata": {
    "collapsed": true
   },
   "source": [
    "# Modified Nodal Analysis (MNA)\n",
    "The best and most comprehensive links for MNA on the web:\n",
    "[MNA](https://www.swarthmore.edu/NatSci/echeeve1/Ref/mna/MNA2.html),\n",
    "[Algorithm](https://www.swarthmore.edu/NatSci/echeeve1/Ref/mna/MNA3.html),\n",
    "[Examples](https://www.swarthmore.edu/NatSci/echeeve1/Ref/mna/MNA4.html), and\n",
    "[Matrix formation rules](https://www.swarthmore.edu/NatSci/echeeve1/Ref/mna/MNAMatrixRules.html)."
   ]
  },
  {
   "cell_type": "code",
   "execution_count": 216,
   "metadata": {
    "collapsed": true
   },
   "outputs": [],
   "source": [
    "\n",
    "\n"
   ]
  },
  {
   "cell_type": "markdown",
   "metadata": {},
   "source": [
    "voltage source at 0,0\n",
    "ground at r-1,c-1 or n-1\n",
    "\n",
    "G = mvalues with the diagonal being the positive row sums from Gvalues, and the off diagonals being the "
   ]
  },
  {
   "cell_type": "code",
   "execution_count": 254,
   "metadata": {},
   "outputs": [],
   "source": [
    "def getG(n1,n2):\n",
    "    \"\"\"holds enough information to reconstruct r1,c1 to r2,c2 information which equates to physical position\"\"\"\n",
    "    return 1\n",
    "def make_gridpattern(getG,r,c):\n",
    "    n=r*c\n",
    "    Gvalues=np.zeros((n,n))\n",
    "    for i in range(n):\n",
    "        for j in range(n):\n",
    "\n",
    "            if i in [x for x in range(0,c-1)]: #top row\n",
    "                if i==0 and j in [i+1,i+c]:#top left\n",
    "                    Gvalues[i,j]=getG(i,j)\n",
    "                elif i==(c-1) and j in [i-1,i+c]:#top right\n",
    "                    Gvalues[i,j]=getG(i,j)\n",
    "                elif j in [i-1,i+1,i+c]:\n",
    "                    Gvalues[i,j]=getG(i,j)\n",
    "            elif i in [x for x in range((n-1)*n,n*n)]: #bottom row\n",
    "                if i==(r-1)*c and j in[i+1,i-c]:\n",
    "                    Gvalues[i,j]=getG(i,j)\n",
    "                elif i==r*c-1 and j in[i-1,i-c]:\n",
    "                    Gvalues[i,j]=getG(i,j)\n",
    "                elif j in [i-1,i+1,i-c]:\n",
    "                    Gvalues[i,j]=getG(i,j)\n",
    "            elif i%c==0: #left side\n",
    "                if j in [i+1,i+c,i-c]:\n",
    "                    Gvalues[i,j]=getG(i,j)\n",
    "            elif (i+1)%c==0: # right side\n",
    "                if j in [i-1,i+c,i-c]:\n",
    "                    Gvalues[i,j]=getG(i,j)\n",
    "            else:\n",
    "                if j in [i+1,i-1,i+c,i-c]:\n",
    "                    Gvalues[i,j]=getG(i,j)\n",
    "    return Gvalues\n",
    "        \n",
    "def make_G(pattern,gnd):\n",
    "    n=len(pattern)\n",
    "    G=-pattern\n",
    "    for i in range(n):\n",
    "        for j in range(n):\n",
    "            if i==j:\n",
    "                G[i,j]=sum(pattern[i])\n",
    "    \n",
    "    return np.delete(np.delete(G,gnd[0],0),gnd[0],1)\n",
    "    \n",
    "def make_A(G,Vsrc):\n",
    "    n=len(G)\n",
    "    B=np.zeros((n,len(Vsrc)))\n",
    "    for i in range(n):\n",
    "            if i in Vsrc:\n",
    "                B[i,list(Vsrc).index(i)]=1\n",
    "    D=np.zeros((len(Vsrc),len(Vsrc)))\n",
    "    BTD=np.append(B.T,D,axis=1)\n",
    "    return np.append(np.append(G,B,axis=1),BTD,axis=0)\n",
    "    \n",
    "def make_z(r,c,Vsrc):\n",
    "    return np.append(np.zeros((r*c-1,1)),Vsrc[:,1][:,None],axis=0)\n",
    "    \n",
    "      "
   ]
  },
  {
   "cell_type": "code",
   "execution_count": 261,
   "metadata": {},
   "outputs": [
    {
     "name": "stderr",
     "output_type": "stream",
     "text": [
      "/usr/lib/python3/dist-packages/matplotlib/figure.py:1744: UserWarning: This figure includes Axes that are not compatible with tight_layout, so its results might be incorrect.\n",
      "  warnings.warn(\"This figure includes Axes that are not \"\n"
     ]
    },
    {
     "data": {
      "image/png": "[encoded data removed]",
      "text/plain": [
       "<matplotlib.figure.Figure at 0x7fbaa0ca9b38>"
      ]
     },
     "metadata": {},
     "output_type": "display_data"
    },
    {
     "data": {
      "image/png": "[encoded data removed]",
      "text/plain": [
       "<matplotlib.figure.Figure at 0x7fbaa0e52128>"
      ]
     },
     "metadata": {},
     "output_type": "display_data"
    },
    {
     "name": "stdout",
     "output_type": "stream",
     "text": [
      "[[ 5.        ]\n",
      " [ 2.85714286]\n",
      " [ 1.42857143]\n",
      " [ 3.57142857]\n",
      " [ 2.14285714]\n",
      " [-3.57142857]]\n"
     ]
    }
   ],
   "source": [
    "r=2\n",
    "c=3\n",
    "n=r*c\n",
    "m=1\n",
    "G=np.zeros((n,n)) #\n",
    "Gvalues=np.zeros((n,n))\n",
    "B=np.zeros((n,m))\n",
    "C=B.T\n",
    "D=np.zeros((n,n))\n",
    "gnd=[n-1]\n",
    "Vsrc=np.array([[0,5]])\n",
    "z=make_z(r,c,Vsrc)\n",
    "\n",
    "A=make_A(make_G(make_gridpattern(getG,r,c),gnd),Vsrc[:,0])\n",
    "sns.heatmap(A,linewidths=1,linecolor='grey',annot=True)\n",
    "plt.show()  \n",
    "sns.heatmap(np.linalg.inv(A),linewidths=1,linecolor='grey',annot=True)\n",
    "plt.show() \n",
    "print(np.matmul(np.linalg.inv(A),z))"
   ]
  },
  {
   "cell_type": "code",
   "execution_count": null,
   "metadata": {
    "collapsed": true
   },
   "outputs": [],
   "source": []
  }
 ],
 "metadata": {
  "kernelspec": {
   "display_name": "Python 3",
   "language": "python",
   "name": "python3"
  },
  "language_info": {
   "codemirror_mode": {
    "name": "ipython",
    "version": 3
   },
   "file_extension": ".py",
   "mimetype": "text/x-python",
   "name": "python",
   "nbconvert_exporter": "python",
   "pygments_lexer": "ipython3",
   "version": "3.5.2"
  }
 },
 "nbformat": 4,
 "nbformat_minor": 2
}
